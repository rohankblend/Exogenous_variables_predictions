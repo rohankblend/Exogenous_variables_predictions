{
 "cells": [
  {
   "cell_type": "code",
   "execution_count": 27,
   "id": "8d67e6a6",
   "metadata": {},
   "outputs": [],
   "source": [
    "import pandas as pd\n",
    "import numpy as np\n",
    "from prophet import Prophet\n",
    "from sklearn.metrics import mean_absolute_percentage_error\n",
    "from sklearn.model_selection import train_test_split\n",
    "import matplotlib.pyplot as plt\n",
    "import warnings\n",
    "warnings.filterwarnings('ignore')\n",
    "from datetime import datetime\n",
    "from prophet.serialize import model_to_json"
   ]
  },
  {
   "cell_type": "code",
   "execution_count": 8,
   "id": "a5e0f35a",
   "metadata": {},
   "outputs": [],
   "source": [
    "df=pd.read_csv(\"exog_variables (1).csv\")"
   ]
  },
  {
   "cell_type": "code",
   "execution_count": 9,
   "id": "62330045",
   "metadata": {},
   "outputs": [],
   "source": [
    "df_cpi = df[[\"DATE\",\"CPI\"]]"
   ]
  },
  {
   "cell_type": "code",
   "execution_count": 10,
   "id": "e33777ae",
   "metadata": {},
   "outputs": [],
   "source": [
    "df_cpi['DATE'] = pd.to_datetime(df_cpi['DATE'])\n",
    "\n",
    "df_cpi.set_index('DATE', inplace=True)"
   ]
  },
  {
   "cell_type": "code",
   "execution_count": 11,
   "id": "d907750c",
   "metadata": {},
   "outputs": [],
   "source": [
    "df_cpi = df_cpi.resample('MS').mean()"
   ]
  },
  {
   "cell_type": "code",
   "execution_count": 12,
   "id": "97349063",
   "metadata": {},
   "outputs": [],
   "source": [
    "df_cpi=df_cpi.reset_index()"
   ]
  },
  {
   "cell_type": "code",
   "execution_count": 13,
   "id": "388adf47",
   "metadata": {},
   "outputs": [],
   "source": [
    "df_cpi_latest = df_cpi.tail(32)"
   ]
  },
  {
   "cell_type": "code",
   "execution_count": 14,
   "id": "80aa4555",
   "metadata": {},
   "outputs": [],
   "source": [
    "df_cpi_latest['ds'] = pd.to_datetime(df_cpi_latest['DATE'])\n",
    "df_cpi_latest['y'] = df_cpi_latest[\"CPI\"]"
   ]
  },
  {
   "cell_type": "code",
   "execution_count": 15,
   "id": "7c328195",
   "metadata": {},
   "outputs": [],
   "source": [
    "train_data = df_cpi_latest.head(18)\n",
    "test_data = df_cpi_latest.tail(5)"
   ]
  },
  {
   "cell_type": "code",
   "execution_count": 16,
   "id": "e871ee63",
   "metadata": {},
   "outputs": [
    {
     "name": "stderr",
     "output_type": "stream",
     "text": [
      "20:26:18 - cmdstanpy - INFO - Chain [1] start processing\n",
      "20:26:18 - cmdstanpy - INFO - Chain [1] done processing\n",
      "20:26:18 - cmdstanpy - INFO - Chain [1] start processing\n"
     ]
    },
    {
     "name": "stdout",
     "output_type": "stream",
     "text": [
      "2 0.08149105778118285 1.85871659908756\n"
     ]
    },
    {
     "name": "stderr",
     "output_type": "stream",
     "text": [
      "20:26:21 - cmdstanpy - INFO - Chain [1] done processing\n",
      "20:26:21 - cmdstanpy - INFO - Chain [1] start processing\n"
     ]
    },
    {
     "name": "stdout",
     "output_type": "stream",
     "text": [
      "3 1.5364007062071008e-05 5.0382902525220485\n"
     ]
    },
    {
     "name": "stderr",
     "output_type": "stream",
     "text": [
      "20:26:26 - cmdstanpy - INFO - Chain [1] done processing\n",
      "20:26:26 - cmdstanpy - INFO - Chain [1] start processing\n"
     ]
    },
    {
     "name": "stdout",
     "output_type": "stream",
     "text": [
      "4 4.958037804182922e-05 3.4097891000317753\n"
     ]
    },
    {
     "name": "stderr",
     "output_type": "stream",
     "text": [
      "20:26:32 - cmdstanpy - INFO - Chain [1] done processing\n",
      "20:26:32 - cmdstanpy - INFO - Chain [1] start processing\n"
     ]
    },
    {
     "name": "stdout",
     "output_type": "stream",
     "text": [
      "5 3.37198555829576e-05 4.326346034614622\n"
     ]
    },
    {
     "name": "stderr",
     "output_type": "stream",
     "text": [
      "20:26:39 - cmdstanpy - INFO - Chain [1] done processing\n",
      "20:26:39 - cmdstanpy - INFO - Chain [1] start processing\n"
     ]
    },
    {
     "name": "stdout",
     "output_type": "stream",
     "text": [
      "6 4.690546457870524e-05 2.2271193755336323\n"
     ]
    },
    {
     "name": "stderr",
     "output_type": "stream",
     "text": [
      "20:26:46 - cmdstanpy - INFO - Chain [1] done processing\n",
      "20:26:46 - cmdstanpy - INFO - Chain [1] start processing\n"
     ]
    },
    {
     "name": "stdout",
     "output_type": "stream",
     "text": [
      "7 5.0672094130726446e-05 0.9481439146348717\n"
     ]
    },
    {
     "name": "stderr",
     "output_type": "stream",
     "text": [
      "20:26:53 - cmdstanpy - INFO - Chain [1] done processing\n",
      "20:26:53 - cmdstanpy - INFO - Chain [1] start processing\n"
     ]
    },
    {
     "name": "stdout",
     "output_type": "stream",
     "text": [
      "8 0.00033476435424249627 17.63982696748679\n"
     ]
    },
    {
     "name": "stderr",
     "output_type": "stream",
     "text": [
      "20:27:00 - cmdstanpy - INFO - Chain [1] done processing\n",
      "20:27:01 - cmdstanpy - INFO - Chain [1] start processing\n"
     ]
    },
    {
     "name": "stdout",
     "output_type": "stream",
     "text": [
      "9 1.2768921066069723e-05 2.6414132457907447\n"
     ]
    },
    {
     "name": "stderr",
     "output_type": "stream",
     "text": [
      "20:27:08 - cmdstanpy - INFO - Chain [1] done processing\n",
      "20:27:09 - cmdstanpy - INFO - Chain [1] start processing\n"
     ]
    },
    {
     "name": "stdout",
     "output_type": "stream",
     "text": [
      "10 0.00044755622087693056 36.08372707506832\n"
     ]
    },
    {
     "name": "stderr",
     "output_type": "stream",
     "text": [
      "20:27:19 - cmdstanpy - INFO - Chain [1] done processing\n",
      "20:27:19 - cmdstanpy - INFO - Chain [1] start processing\n"
     ]
    },
    {
     "name": "stdout",
     "output_type": "stream",
     "text": [
      "15 0.0012900769631888867 86.93699876324006\n"
     ]
    },
    {
     "name": "stderr",
     "output_type": "stream",
     "text": [
      "20:27:32 - cmdstanpy - INFO - Chain [1] done processing\n",
      "20:27:32 - cmdstanpy - INFO - Chain [1] start processing\n"
     ]
    },
    {
     "name": "stdout",
     "output_type": "stream",
     "text": [
      "17 0.0002937627307613028 8.417437632424377\n"
     ]
    },
    {
     "name": "stderr",
     "output_type": "stream",
     "text": [
      "20:27:33 - cmdstanpy - INFO - Chain [1] done processing\n",
      "20:27:33 - cmdstanpy - INFO - Chain [1] start processing\n"
     ]
    },
    {
     "name": "stdout",
     "output_type": "stream",
     "text": [
      "20 0.000743985432929783 29.917648617420962\n"
     ]
    },
    {
     "name": "stderr",
     "output_type": "stream",
     "text": [
      "20:27:34 - cmdstanpy - INFO - Chain [1] done processing\n",
      "20:27:34 - cmdstanpy - INFO - Chain [1] start processing\n"
     ]
    },
    {
     "name": "stdout",
     "output_type": "stream",
     "text": [
      "25 0.0007368264699674203 36.483404958523366\n"
     ]
    },
    {
     "name": "stderr",
     "output_type": "stream",
     "text": [
      "20:27:36 - cmdstanpy - INFO - Chain [1] done processing\n",
      "20:27:36 - cmdstanpy - INFO - Chain [1] start processing\n"
     ]
    },
    {
     "name": "stdout",
     "output_type": "stream",
     "text": [
      "26 0.00032796640318228976 21.29269996004746\n"
     ]
    },
    {
     "name": "stderr",
     "output_type": "stream",
     "text": [
      "20:27:37 - cmdstanpy - INFO - Chain [1] done processing\n",
      "20:27:37 - cmdstanpy - INFO - Chain [1] start processing\n"
     ]
    },
    {
     "name": "stdout",
     "output_type": "stream",
     "text": [
      "27 0.001928256625487305 165.4896256225235\n"
     ]
    },
    {
     "name": "stderr",
     "output_type": "stream",
     "text": [
      "20:27:38 - cmdstanpy - INFO - Chain [1] done processing\n",
      "20:27:38 - cmdstanpy - INFO - Chain [1] start processing\n"
     ]
    },
    {
     "name": "stdout",
     "output_type": "stream",
     "text": [
      "28 0.0020673257271474994 100.002538744896\n"
     ]
    },
    {
     "name": "stderr",
     "output_type": "stream",
     "text": [
      "20:27:59 - cmdstanpy - INFO - Chain [1] done processing\n",
      "20:27:59 - cmdstanpy - INFO - Chain [1] start processing\n"
     ]
    },
    {
     "name": "stdout",
     "output_type": "stream",
     "text": [
      "29 0.0027094154567177758 93.57724559524803\n"
     ]
    },
    {
     "name": "stderr",
     "output_type": "stream",
     "text": [
      "20:28:01 - cmdstanpy - INFO - Chain [1] done processing\n"
     ]
    },
    {
     "name": "stdout",
     "output_type": "stream",
     "text": [
      "30 0.0016524921917501674 121.74055217585284\n"
     ]
    }
   ],
   "source": [
    "df_log_cpi = pd.DataFrame(columns=[\"Yearly_order\",\"Train MAPE\",\"Test MAPE\"])\n",
    "    \n",
    "yearly_order=[2,3,4,5,6,7,8,9,10,15,17,20,25,26,27,28,29,30]\n",
    "    \n",
    "\n",
    "for year in yearly_order:\n",
    "    model=Prophet(seasonality_mode='additive',growth=\"linear\",weekly_seasonality=False, yearly_seasonality=False,daily_seasonality=False)\n",
    "\n",
    "    model.add_seasonality(name='yearly',period=365.25,fourier_order=year)\n",
    "\n",
    "    model.fit(train_data)\n",
    "    future = model.make_future_dataframe(periods=len(test_data), freq='MS')\n",
    "\n",
    "\n",
    "    train_mape=mean_absolute_percentage_error(train_data['y'],model.predict(train_data).yhat)*100\n",
    "\n",
    "    forecast = model.predict(future)\n",
    "    forecast_test = forecast[-len(test_data):]\n",
    "    y_true = test_data['y'].values\n",
    "    y_pred = forecast_test['yhat']\n",
    "    mape = mean_absolute_percentage_error(y_true,y_pred)\n",
    "    print(year,train_mape,mape*100)\n",
    "    df_log_cpi = df_log_cpi.append({'Yearly_order':year,\"Train MAPE\":train_mape,\"Test MAPE\":mape*100},ignore_index = True)\n",
    "        "
   ]
  },
  {
   "cell_type": "code",
   "execution_count": 17,
   "id": "a61fc924",
   "metadata": {},
   "outputs": [
    {
     "data": {
      "text/html": [
       "<div>\n",
       "<style scoped>\n",
       "    .dataframe tbody tr th:only-of-type {\n",
       "        vertical-align: middle;\n",
       "    }\n",
       "\n",
       "    .dataframe tbody tr th {\n",
       "        vertical-align: top;\n",
       "    }\n",
       "\n",
       "    .dataframe thead th {\n",
       "        text-align: right;\n",
       "    }\n",
       "</style>\n",
       "<table border=\"1\" class=\"dataframe\">\n",
       "  <thead>\n",
       "    <tr style=\"text-align: right;\">\n",
       "      <th></th>\n",
       "      <th>Yearly_order</th>\n",
       "      <th>Train MAPE</th>\n",
       "      <th>Test MAPE</th>\n",
       "    </tr>\n",
       "  </thead>\n",
       "  <tbody>\n",
       "    <tr>\n",
       "      <th>0</th>\n",
       "      <td>7.0</td>\n",
       "      <td>0.000051</td>\n",
       "      <td>0.948144</td>\n",
       "    </tr>\n",
       "    <tr>\n",
       "      <th>1</th>\n",
       "      <td>2.0</td>\n",
       "      <td>0.081491</td>\n",
       "      <td>1.858717</td>\n",
       "    </tr>\n",
       "    <tr>\n",
       "      <th>2</th>\n",
       "      <td>6.0</td>\n",
       "      <td>0.000047</td>\n",
       "      <td>2.227119</td>\n",
       "    </tr>\n",
       "    <tr>\n",
       "      <th>3</th>\n",
       "      <td>9.0</td>\n",
       "      <td>0.000013</td>\n",
       "      <td>2.641413</td>\n",
       "    </tr>\n",
       "    <tr>\n",
       "      <th>4</th>\n",
       "      <td>4.0</td>\n",
       "      <td>0.000050</td>\n",
       "      <td>3.409789</td>\n",
       "    </tr>\n",
       "    <tr>\n",
       "      <th>5</th>\n",
       "      <td>5.0</td>\n",
       "      <td>0.000034</td>\n",
       "      <td>4.326346</td>\n",
       "    </tr>\n",
       "    <tr>\n",
       "      <th>6</th>\n",
       "      <td>3.0</td>\n",
       "      <td>0.000015</td>\n",
       "      <td>5.038290</td>\n",
       "    </tr>\n",
       "    <tr>\n",
       "      <th>7</th>\n",
       "      <td>17.0</td>\n",
       "      <td>0.000294</td>\n",
       "      <td>8.417438</td>\n",
       "    </tr>\n",
       "    <tr>\n",
       "      <th>8</th>\n",
       "      <td>8.0</td>\n",
       "      <td>0.000335</td>\n",
       "      <td>17.639827</td>\n",
       "    </tr>\n",
       "    <tr>\n",
       "      <th>9</th>\n",
       "      <td>26.0</td>\n",
       "      <td>0.000328</td>\n",
       "      <td>21.292700</td>\n",
       "    </tr>\n",
       "    <tr>\n",
       "      <th>10</th>\n",
       "      <td>20.0</td>\n",
       "      <td>0.000744</td>\n",
       "      <td>29.917649</td>\n",
       "    </tr>\n",
       "    <tr>\n",
       "      <th>11</th>\n",
       "      <td>10.0</td>\n",
       "      <td>0.000448</td>\n",
       "      <td>36.083727</td>\n",
       "    </tr>\n",
       "    <tr>\n",
       "      <th>12</th>\n",
       "      <td>25.0</td>\n",
       "      <td>0.000737</td>\n",
       "      <td>36.483405</td>\n",
       "    </tr>\n",
       "    <tr>\n",
       "      <th>13</th>\n",
       "      <td>15.0</td>\n",
       "      <td>0.001290</td>\n",
       "      <td>86.936999</td>\n",
       "    </tr>\n",
       "    <tr>\n",
       "      <th>14</th>\n",
       "      <td>29.0</td>\n",
       "      <td>0.002709</td>\n",
       "      <td>93.577246</td>\n",
       "    </tr>\n",
       "    <tr>\n",
       "      <th>15</th>\n",
       "      <td>28.0</td>\n",
       "      <td>0.002067</td>\n",
       "      <td>100.002539</td>\n",
       "    </tr>\n",
       "    <tr>\n",
       "      <th>16</th>\n",
       "      <td>30.0</td>\n",
       "      <td>0.001652</td>\n",
       "      <td>121.740552</td>\n",
       "    </tr>\n",
       "    <tr>\n",
       "      <th>17</th>\n",
       "      <td>27.0</td>\n",
       "      <td>0.001928</td>\n",
       "      <td>165.489626</td>\n",
       "    </tr>\n",
       "  </tbody>\n",
       "</table>\n",
       "</div>"
      ],
      "text/plain": [
       "    Yearly_order  Train MAPE   Test MAPE\n",
       "0            7.0    0.000051    0.948144\n",
       "1            2.0    0.081491    1.858717\n",
       "2            6.0    0.000047    2.227119\n",
       "3            9.0    0.000013    2.641413\n",
       "4            4.0    0.000050    3.409789\n",
       "5            5.0    0.000034    4.326346\n",
       "6            3.0    0.000015    5.038290\n",
       "7           17.0    0.000294    8.417438\n",
       "8            8.0    0.000335   17.639827\n",
       "9           26.0    0.000328   21.292700\n",
       "10          20.0    0.000744   29.917649\n",
       "11          10.0    0.000448   36.083727\n",
       "12          25.0    0.000737   36.483405\n",
       "13          15.0    0.001290   86.936999\n",
       "14          29.0    0.002709   93.577246\n",
       "15          28.0    0.002067  100.002539\n",
       "16          30.0    0.001652  121.740552\n",
       "17          27.0    0.001928  165.489626"
      ]
     },
     "execution_count": 17,
     "metadata": {},
     "output_type": "execute_result"
    }
   ],
   "source": [
    "df_log_cpi=df_log_cpi.sort_values(\"Test MAPE\")\n",
    "df_log_cpi = df_log_cpi.reset_index(drop=True)\n",
    "df_log_cpi"
   ]
  },
  {
   "cell_type": "code",
   "execution_count": 19,
   "id": "60c83ea2",
   "metadata": {},
   "outputs": [],
   "source": [
    "yearly_order_value = df_log_cpi.at[0, 'Yearly_order']"
   ]
  },
  {
   "cell_type": "code",
   "execution_count": 23,
   "id": "93960ef6",
   "metadata": {},
   "outputs": [
    {
     "name": "stderr",
     "output_type": "stream",
     "text": [
      "20:31:20 - cmdstanpy - INFO - Chain [1] start processing\n",
      "20:31:26 - cmdstanpy - INFO - Chain [1] done processing\n"
     ]
    },
    {
     "data": {
      "text/plain": [
       "<prophet.forecaster.Prophet at 0x192b05cf0a0>"
      ]
     },
     "execution_count": 23,
     "metadata": {},
     "output_type": "execute_result"
    }
   ],
   "source": [
    "model=Prophet(growth=\"linear\",weekly_seasonality=False, yearly_seasonality=False,daily_seasonality=False)\n",
    "model.add_seasonality(name='yearly',period=365.25,fourier_order=int(yearly_order_value))\n",
    "model.fit(train_data)"
   ]
  },
  {
   "cell_type": "code",
   "execution_count": 28,
   "id": "15ced70c",
   "metadata": {},
   "outputs": [],
   "source": [
    "current_date = datetime.now().strftime('%d%m%Y')\n",
    "\n",
    "file_name = f'{current_date}.json'\n",
    "\n",
    "with open(file_name, 'w') as fout:\n",
    "    fout.write(model_to_json(model))"
   ]
  },
  {
   "cell_type": "code",
   "execution_count": null,
   "id": "ff7c1258",
   "metadata": {},
   "outputs": [],
   "source": []
  }
 ],
 "metadata": {
  "kernelspec": {
   "display_name": "Python 3 (ipykernel)",
   "language": "python",
   "name": "python3"
  },
  "language_info": {
   "codemirror_mode": {
    "name": "ipython",
    "version": 3
   },
   "file_extension": ".py",
   "mimetype": "text/x-python",
   "name": "python",
   "nbconvert_exporter": "python",
   "pygments_lexer": "ipython3",
   "version": "3.10.13"
  }
 },
 "nbformat": 4,
 "nbformat_minor": 5
}
